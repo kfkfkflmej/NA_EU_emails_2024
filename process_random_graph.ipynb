{
 "cells": [
  {
   "cell_type": "code",
   "execution_count": null,
   "id": "9ca366fd",
   "metadata": {},
   "outputs": [],
   "source": [
    "# import the libraries\n",
    "\n",
    "import pandas as pd\n",
    "import networkx as nx\n",
    "from collections import Counter\n",
    "import matplotlib.pyplot as plt\n",
    "from scipy.stats import ks_2samp\n",
    "import numpy as np\n",
    "from scipy.stats import linregress\n",
    "import random\n",
    "import cpnet\n",
    "import time"
   ]
  },
  {
   "cell_type": "code",
   "execution_count": null,
   "id": "7049fdae",
   "metadata": {},
   "outputs": [],
   "source": [
    "# load the data\n",
    "file_path = 'data.csv'\n",
    "edge_df = pd.read_csv(file_path, delimiter=' ')\n",
    "G = nx.from_pandas_edgelist(edge_df, 'Source', 'Target')"
   ]
  },
  {
   "cell_type": "code",
   "execution_count": null,
   "id": "2ea04030",
   "metadata": {},
   "outputs": [],
   "source": [
    "import networkx as nx\n",
    "import random\n",
    "\n",
    "def create_random_graph_no_isolates_or_selfloops(n, m):\n",
    "    # Create an empty graph\n",
    "    G = nx.Graph()\n",
    "\n",
    "    # Add nodes\n",
    "    G.add_nodes_from(range(n))\n",
    "\n",
    "    # Step 1: Create a connected graph by adding a spanning tree\n",
    "    # A spanning tree is guaranteed to be connected with n-1 edges\n",
    "    G = nx.random_tree(n)  # This generates a connected graph with n nodes\n",
    "\n",
    "    # Step 2: Add additional random edges until we reach m edges, avoiding self-loops and isolated nodes\n",
    "    edges = set(G.edges())  # Start with the edges of the spanning tree\n",
    "    while len(edges) < m:\n",
    "        u, v = random.sample(range(n), 2)  # Randomly pick two distinct nodes\n",
    "        if u != v:  # No self-loops\n",
    "            edges.add((u, v))\n",
    "\n",
    "    # Add edges to the graph\n",
    "    G.add_edges_from(edges)\n",
    "\n",
    "    # Final check to ensure no isolated nodes remain\n",
    "    isolated_nodes = list(nx.isolates(G))\n",
    "    if isolated_nodes:\n",
    "        for node in isolated_nodes:\n",
    "            other_node = random.choice([n for n in G.nodes() if n != node])\n",
    "            G.add_edge(node, other_node)\n",
    "\n",
    "    return G\n",
    "\n",
    "# Example usage\n",
    "\n",
    "# Get the number of nodes and edges from G\n",
    "n = len(G.nodes())  # number of nodes\n",
    "m = len(G.edges())  # number of edges\n",
    "\n",
    "# Create the random graph R with the same number of nodes and edges\n",
    "R = create_random_graph_no_isolates_or_selfloops(n, m)\n",
    "\n",
    "print(f\"Generated graph (R) - Number of nodes: {len(R.nodes())}, Number of edges: {len(R.edges())}\")\n",
    "\n",
    "# Verify there are no self-loops or isolated nodes in R\n",
    "print(f\"Self-loops in R: {[(u, v) for u, v in R.edges() if u == v]}\")  # Should be empty\n",
    "print(f\"Isolated nodes in R: {list(nx.isolates(R))}\")  # Should be empty\n"
   ]
  },
  {
   "cell_type": "code",
   "execution_count": null,
   "id": "4cdb3bbb",
   "metadata": {},
   "outputs": [],
   "source": [
    "import networkx as nx\n",
    "import random\n",
    "\n",
    "# Create or load your graph (for example, using R from your existing graph)\n",
    "# R = nx.gnm_random_graph(10, 15)  # This is just an example\n",
    "\n",
    "# Assume R is the graph you want to remove edges from\n",
    "num_edges_to_remove = 1\n",
    "\n",
    "# Ensure the graph has enough edges to remove\n",
    "if len(R.edges()) >= num_edges_to_remove:\n",
    "    # Randomly select 141 edges from the graph\n",
    "    edges_to_remove = random.sample(list(R.edges()), num_edges_to_remove)\n",
    "\n",
    "    # Remove the selected edges\n",
    "    R.remove_edges_from(edges_to_remove)\n",
    "print(len(G.nodes), len(R.nodes),type(G) , type(R), len(G.edges), len(R.edges))\n"
   ]
  },
  {
   "cell_type": "code",
   "execution_count": null,
   "id": "0a374da7",
   "metadata": {},
   "outputs": [],
   "source": [
    "print(f\"Isolated nodes in R: {list(nx.isolates(R))}\")  # Should be empty"
   ]
  },
  {
   "cell_type": "code",
   "execution_count": null,
   "id": "009ccff0",
   "metadata": {},
   "outputs": [],
   "source": [
    "R.add_edge(30468, 31449)"
   ]
  },
  {
   "cell_type": "code",
   "execution_count": null,
   "id": "e53f1b3a",
   "metadata": {},
   "outputs": [],
   "source": [
    "print(len(G.nodes), len(R.nodes),type(G) , type(R), len(G.edges), len(R.edges))"
   ]
  },
  {
   "cell_type": "code",
   "execution_count": null,
   "id": "712088b5",
   "metadata": {},
   "outputs": [],
   "source": [
    "is_connected = nx.is_connected(R)\n",
    "print(f\"Is the graph connected? {is_connected}\")"
   ]
  },
  {
   "cell_type": "code",
   "execution_count": null,
   "id": "e0099fa5",
   "metadata": {},
   "outputs": [],
   "source": [
    "# Write the edge list explicitly\n",
    "with open(\"random_graph.csv\", \"w\") as f:\n",
    "    for u, v in R.edges():\n",
    "        f.write(f\"{u} {v}\\n\")"
   ]
  }
 ],
 "metadata": {
  "kernelspec": {
   "display_name": "Python 3 (ipykernel)",
   "language": "python",
   "name": "python3"
  },
  "language_info": {
   "codemirror_mode": {
    "name": "ipython",
    "version": 3
   },
   "file_extension": ".py",
   "mimetype": "text/x-python",
   "name": "python",
   "nbconvert_exporter": "python",
   "pygments_lexer": "ipython3",
   "version": "3.11.4"
  }
 },
 "nbformat": 4,
 "nbformat_minor": 5
}
