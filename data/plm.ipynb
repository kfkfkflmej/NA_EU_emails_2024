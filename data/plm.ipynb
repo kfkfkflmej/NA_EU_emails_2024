{
 "cells": [
  {
   "cell_type": "code",
   "execution_count": 2,
   "id": "c339f8bf",
   "metadata": {},
   "outputs": [],
   "source": [
    "# import the libraries\n",
    "\n",
    "import pandas as pd\n",
    "import networkx as nx\n",
    "from collections import Counter\n",
    "import matplotlib.pyplot as plt\n",
    "from scipy.stats import ks_2samp\n",
    "import numpy as np\n",
    "from scipy.stats import linregress\n",
    "import random"
   ]
  },
  {
   "cell_type": "code",
   "execution_count": 3,
   "id": "e5528049",
   "metadata": {},
   "outputs": [],
   "source": [
    "# load the data into a graph\n",
    "\n",
    "G = nx.read_edgelist(\"data.csv\")"
   ]
  },
  {
   "cell_type": "code",
   "execution_count": 4,
   "id": "9ebf4757",
   "metadata": {},
   "outputs": [
    {
     "name": "stdout",
     "output_type": "stream",
     "text": [
      "Desnity: 0.00010344855751524997\n"
     ]
    }
   ],
   "source": [
    "# graph density\n",
    "\n",
    "density = nx.density(G)\n",
    "print(f\"Desnity: {density}\")"
   ]
  },
  {
   "cell_type": "code",
   "execution_count": 5,
   "id": "a0b00c27",
   "metadata": {},
   "outputs": [
    {
     "name": "stdout",
     "output_type": "stream",
     "text": [
      "Maximum Degree: 623\n",
      "Minimum Degree: 1\n"
     ]
    }
   ],
   "source": [
    "# maximum and minimum node degree\n",
    "\n",
    "degrees = dict(G.degree())\n",
    "max_degree = max(degrees.values())\n",
    "min_degree = min(degrees.values())\n",
    "print(f\"Maximum Degree: {max_degree}\\nMinimum Degree: {min_degree}\")"
   ]
  },
  {
   "cell_type": "code",
   "execution_count": 6,
   "id": "9d91de84",
   "metadata": {},
   "outputs": [
    {
     "name": "stdout",
     "output_type": "stream",
     "text": [
      "Average Degree: 3\n"
     ]
    }
   ],
   "source": [
    "# average degree\n",
    "\n",
    "total_degree = sum(dict(G.degree()).values())\n",
    "num_nodes = G.number_of_nodes()\n",
    "avg_degree = total_degree / num_nodes if num_nodes > 0 else 0\n",
    "print(f\"Average Degree: {int(avg_degree)}\")"
   ]
  },
  {
   "cell_type": "code",
   "execution_count": 7,
   "id": "ca50aabc",
   "metadata": {},
   "outputs": [
    {
     "name": "stdout",
     "output_type": "stream",
     "text": [
      "Assortativity: -0.38162654735878593\n"
     ]
    }
   ],
   "source": [
    "# Assortativity\n",
    "\n",
    "assortativity = nx.degree_assortativity_coefficient(G)\n",
    "print(f\"Assortativity: {assortativity}\")"
   ]
  },
  {
   "cell_type": "code",
   "execution_count": 8,
   "id": "3117dd93",
   "metadata": {},
   "outputs": [
    {
     "name": "stdout",
     "output_type": "stream",
     "text": [
      "Number of Triangles: 146976\n"
     ]
    }
   ],
   "source": [
    "# Number of Triangles\n",
    "\n",
    "triangle_count = sum(nx.triangles(G).values())\n",
    "print(f\"Number of Triangles: {triangle_count}\")"
   ]
  },
  {
   "cell_type": "code",
   "execution_count": 9,
   "id": "5424e126",
   "metadata": {},
   "outputs": [
    {
     "name": "stdout",
     "output_type": "stream",
     "text": [
      "Average Number of Triangles: 4\n"
     ]
    }
   ],
   "source": [
    "# Average Number of Triangles\n",
    "\n",
    "triangle_count = sum(nx.triangles(G).values())\n",
    "num_nodes = G.number_of_nodes()\n",
    "average_triangles_per_node = triangle_count / num_nodes if num_nodes > 0 else 0\n",
    "print(f\"Average Number of Triangles: {int(average_triangles_per_node)}\")"
   ]
  },
  {
   "cell_type": "code",
   "execution_count": 10,
   "id": "bc0198c9",
   "metadata": {},
   "outputs": [
    {
     "name": "stdout",
     "output_type": "stream",
     "text": [
      "Maximum Number of Triangles: 1615\n"
     ]
    }
   ],
   "source": [
    "# Maximum number of Triangles\n",
    "\n",
    "triangle_counts = nx.triangles(G)\n",
    "max_triangles = max(triangle_counts.values()) if triangle_counts else 0\n",
    "print(f\"Maximum Number of Triangles: {max_triangles}\")"
   ]
  },
  {
   "cell_type": "code",
   "execution_count": 11,
   "id": "a1d335d3",
   "metadata": {},
   "outputs": [
    {
     "name": "stdout",
     "output_type": "stream",
     "text": [
      "Average Clustering Coefficient: 0.11268073251806623\n"
     ]
    }
   ],
   "source": [
    "# Average Clustering Coefficient\n",
    "\n",
    "avg_clustering_coefficient = nx.average_clustering(G)\n",
    "print(f\"Average Clustering Coefficient: {avg_clustering_coefficient}\")"
   ]
  },
  {
   "cell_type": "code",
   "execution_count": 47,
   "id": "8a1970b5",
   "metadata": {},
   "outputs": [
    {
     "name": "stdout",
     "output_type": "stream",
     "text": [
      "Fraction of Closed Triangles: 0.02241862617025909\n"
     ]
    }
   ],
   "source": [
    "# Fraction of Closed Triangles\n",
    "\n",
    "triangle_counts = nx.triangles(G)\n",
    "total_triangles = sum(triangle_counts.values())\n",
    "closed_triangles = sum(1 for node in G.nodes if G.degree[node] > 2)\n",
    "fraction_closed_triangles = closed_triangles / total_triangles\n",
    "print(f\"Fraction of Closed Triangles: {fraction_closed_triangles}\")"
   ]
  },
  {
   "cell_type": "code",
   "execution_count": 29,
   "id": "bcc99437",
   "metadata": {
    "scrolled": false
   },
   "outputs": [
    {
     "name": "stdout",
     "output_type": "stream",
     "text": [
      "Maximum K-Core: 22\n"
     ]
    }
   ],
   "source": [
    "# Maximum K-Core\n",
    "\n",
    "x = nx.core_number(G)\n",
    "max_value = max(x.values())\n",
    "print(f\"Maximum K-Core: {max_value}\")"
   ]
  },
  {
   "cell_type": "code",
   "execution_count": 32,
   "id": "482708a6",
   "metadata": {},
   "outputs": [
    {
     "name": "stdout",
     "output_type": "stream",
     "text": [
      "Lower Bound of Maximum Clique: 12\n"
     ]
    }
   ],
   "source": [
    "# Lower Bound of Maximum Clique\n",
    "\n",
    "cliques = list(nx.find_cliques(G))\n",
    "lb = (max(len(clique) for clique in cliques))\n",
    "print(f\"Lower Bound of Maximum Clique: {lb}\")"
   ]
  },
  {
   "cell_type": "code",
   "execution_count": null,
   "id": "49d18efc",
   "metadata": {},
   "outputs": [],
   "source": []
  }
 ],
 "metadata": {
  "kernelspec": {
   "display_name": "Python 3 (ipykernel)",
   "language": "python",
   "name": "python3"
  },
  "language_info": {
   "codemirror_mode": {
    "name": "ipython",
    "version": 3
   },
   "file_extension": ".py",
   "mimetype": "text/x-python",
   "name": "python",
   "nbconvert_exporter": "python",
   "pygments_lexer": "ipython3",
   "version": "3.11.4"
  }
 },
 "nbformat": 4,
 "nbformat_minor": 5
}
