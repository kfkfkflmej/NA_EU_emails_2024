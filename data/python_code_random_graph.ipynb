{
 "cells": [
  {
   "cell_type": "code",
   "execution_count": 6,
   "id": "910f6f36",
   "metadata": {},
   "outputs": [],
   "source": [
    "# import the libraries\n",
    "\n",
    "import pandas as pd\n",
    "import networkx as nx\n",
    "from collections import Counter\n",
    "import matplotlib.pyplot as plt\n",
    "from scipy.stats import ks_2samp\n",
    "import numpy as np\n",
    "from scipy.stats import linregress\n",
    "import random\n",
    "import cpnet\n",
    "import time"
   ]
  },
  {
   "cell_type": "code",
   "execution_count": 24,
   "id": "f4236b5c",
   "metadata": {},
   "outputs": [],
   "source": [
    "# load the data into a graph\n",
    "\n",
    "G = nx.read_edgelist(\"data_random_graph.csv\")"
   ]
  },
  {
   "cell_type": "code",
   "execution_count": 25,
   "id": "adc8ab1e",
   "metadata": {},
   "outputs": [
    {
     "name": "stdout",
     "output_type": "stream",
     "text": [
      "Desnity: 0.00011816519204946687\n"
     ]
    }
   ],
   "source": [
    "# graph density\n",
    "\n",
    "density = nx.density(G)\n",
    "print(f\"Desnity: {density}\")"
   ]
  },
  {
   "cell_type": "code",
   "execution_count": 26,
   "id": "14bad698",
   "metadata": {},
   "outputs": [
    {
     "name": "stdout",
     "output_type": "stream",
     "text": [
      "Maximum Degree: 14\n",
      "Minimum Degree: 1\n",
      "Number of nodes with degree 1: 3301\n"
     ]
    }
   ],
   "source": [
    "# maximum and minimum node degree\n",
    "\n",
    "degrees = dict(G.degree())\n",
    "max_degree = max(degrees.values())\n",
    "min_degree = min(degrees.values())\n",
    "print(f\"Maximum Degree: {max_degree}\\nMinimum Degree: {min_degree}\")\n",
    "s = 0\n",
    "for i in G.nodes():\n",
    "    if G.degree(i) == min_degree:\n",
    "        s += 1\n",
    "print(f\"Number of nodes with degree 1: {s}\")"
   ]
  },
  {
   "cell_type": "code",
   "execution_count": 10,
   "id": "3fe38943",
   "metadata": {},
   "outputs": [
    {
     "name": "stdout",
     "output_type": "stream",
     "text": [
      "Average Degree: 3\n"
     ]
    }
   ],
   "source": [
    "# average degree\n",
    "\n",
    "total_degree = sum(dict(G.degree()).values())\n",
    "num_nodes = G.number_of_nodes()\n",
    "avg_degree = total_degree / num_nodes if num_nodes > 0 else 0\n",
    "print(f\"Average Degree: {int(avg_degree)}\")"
   ]
  },
  {
   "cell_type": "code",
   "execution_count": 11,
   "id": "f0f56606",
   "metadata": {},
   "outputs": [
    {
     "name": "stdout",
     "output_type": "stream",
     "text": [
      "Assortativity: -0.002347735322754985\n"
     ]
    }
   ],
   "source": [
    "# Assortativity\n",
    "\n",
    "assortativity = nx.degree_assortativity_coefficient(G)\n",
    "print(f\"Assortativity: {assortativity}\")"
   ]
  },
  {
   "cell_type": "code",
   "execution_count": 12,
   "id": "81703fd0",
   "metadata": {},
   "outputs": [
    {
     "name": "stdout",
     "output_type": "stream",
     "text": [
      "Number of Triangles: 36\n"
     ]
    }
   ],
   "source": [
    "# Number of Triangles\n",
    "\n",
    "triangle_count = sum(nx.triangles(G).values())\n",
    "print(f\"Number of Triangles: {triangle_count}\")"
   ]
  },
  {
   "cell_type": "code",
   "execution_count": 13,
   "id": "e81fc8e1",
   "metadata": {},
   "outputs": [
    {
     "name": "stdout",
     "output_type": "stream",
     "text": [
      "Average Number of Triangles: 0\n"
     ]
    }
   ],
   "source": [
    "# Average Number of Triangles\n",
    "\n",
    "triangle_count = sum(nx.triangles(G).values())\n",
    "num_nodes = G.number_of_nodes()\n",
    "average_triangles_per_node = triangle_count / num_nodes if num_nodes > 0 else 0\n",
    "print(f\"Average Number of Triangles: {int(average_triangles_per_node)}\")"
   ]
  },
  {
   "cell_type": "code",
   "execution_count": 14,
   "id": "7a737cc0",
   "metadata": {},
   "outputs": [
    {
     "name": "stdout",
     "output_type": "stream",
     "text": [
      "Maximum Number of Triangles: 1\n"
     ]
    }
   ],
   "source": [
    "# Maximum number of Triangles\n",
    "\n",
    "triangle_counts = nx.triangles(G)\n",
    "max_triangles = max(triangle_counts.values()) if triangle_counts else 0\n",
    "print(f\"Maximum Number of Triangles: {max_triangles}\")"
   ]
  },
  {
   "cell_type": "code",
   "execution_count": 15,
   "id": "a4dc56f3",
   "metadata": {},
   "outputs": [
    {
     "name": "stdout",
     "output_type": "stream",
     "text": [
      "Average Clustering Coefficient: 0.00020272591456351006\n"
     ]
    }
   ],
   "source": [
    "# Average Clustering Coefficient\n",
    "\n",
    "avg_clustering_coefficient = nx.average_clustering(G)\n",
    "print(f\"Average Clustering Coefficient: {avg_clustering_coefficient}\")"
   ]
  },
  {
   "cell_type": "code",
   "execution_count": 16,
   "id": "ed51c815",
   "metadata": {},
   "outputs": [
    {
     "name": "stdout",
     "output_type": "stream",
     "text": [
      "Fraction of Closed Triangles: 586.2777777777778\n"
     ]
    }
   ],
   "source": [
    "# Fraction of Closed Triangles\n",
    "\n",
    "triangle_counts = nx.triangles(G)\n",
    "total_triangles = sum(triangle_counts.values())\n",
    "closed_triangles = sum(1 for node in G.nodes if G.degree[node] > 2)\n",
    "fraction_closed_triangles = closed_triangles / total_triangles\n",
    "print(f\"Fraction of Closed Triangles: {fraction_closed_triangles}\")"
   ]
  },
  {
   "cell_type": "code",
   "execution_count": 17,
   "id": "98300217",
   "metadata": {},
   "outputs": [
    {
     "name": "stdout",
     "output_type": "stream",
     "text": [
      "Maximum K-Core: 3\n"
     ]
    }
   ],
   "source": [
    "# Maximum K-Core\n",
    "\n",
    "x = nx.core_number(G)\n",
    "max_value = max(x.values())\n",
    "print(f\"Maximum K-Core: {max_value}\")"
   ]
  },
  {
   "cell_type": "code",
   "execution_count": 18,
   "id": "4c232e4c",
   "metadata": {},
   "outputs": [
    {
     "name": "stdout",
     "output_type": "stream",
     "text": [
      "Lower Bound of Maximum Clique: 3\n"
     ]
    }
   ],
   "source": [
    "# Lower Bound of Maximum Clique\n",
    "\n",
    "cliques = list(nx.find_cliques(G))\n",
    "lb = (max(len(clique) for clique in cliques))\n",
    "print(f\"Lower Bound of Maximum Clique: {lb}\")"
   ]
  },
  {
   "cell_type": "code",
   "execution_count": null,
   "id": "c2829063",
   "metadata": {},
   "outputs": [],
   "source": []
  }
 ],
 "metadata": {
  "kernelspec": {
   "display_name": "Python 3 (ipykernel)",
   "language": "python",
   "name": "python3"
  },
  "language_info": {
   "codemirror_mode": {
    "name": "ipython",
    "version": 3
   },
   "file_extension": ".py",
   "mimetype": "text/x-python",
   "name": "python",
   "nbconvert_exporter": "python",
   "pygments_lexer": "ipython3",
   "version": "3.11.4"
  }
 },
 "nbformat": 4,
 "nbformat_minor": 5
}
