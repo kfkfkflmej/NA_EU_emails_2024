{
 "cells": [
  {
   "cell_type": "code",
   "execution_count": 1,
   "metadata": {
    "ExecuteTime": {
     "end_time": "2024-11-15T13:48:42.970981Z",
     "start_time": "2024-11-15T13:48:42.093768Z"
    }
   },
   "outputs": [],
   "source": [
    "import networkx as nx\n",
    "import pandas as pd\n",
    "import random\n",
    "import matplotlib.pyplot as plt"
   ]
  },
  {
   "cell_type": "code",
   "execution_count": 22,
   "metadata": {
    "ExecuteTime": {
     "end_time": "2024-11-15T13:48:46.312356Z",
     "start_time": "2024-11-15T13:48:43.579071Z"
    }
   },
   "outputs": [
    {
     "ename": "KeyError",
     "evalue": "'source'",
     "output_type": "error",
     "traceback": [
      "\u001b[1;31m---------------------------------------------------------------------------\u001b[0m",
      "\u001b[1;31mKeyError\u001b[0m                                  Traceback (most recent call last)",
      "File \u001b[1;32mc:\\Users\\l\\anaconda3\\Lib\\site-packages\\pandas\\core\\indexes\\base.py:3802\u001b[0m, in \u001b[0;36mIndex.get_loc\u001b[1;34m(self, key, method, tolerance)\u001b[0m\n\u001b[0;32m   3801\u001b[0m \u001b[38;5;28;01mtry\u001b[39;00m:\n\u001b[1;32m-> 3802\u001b[0m     \u001b[38;5;28;01mreturn\u001b[39;00m \u001b[38;5;28mself\u001b[39m\u001b[38;5;241m.\u001b[39m_engine\u001b[38;5;241m.\u001b[39mget_loc(casted_key)\n\u001b[0;32m   3803\u001b[0m \u001b[38;5;28;01mexcept\u001b[39;00m \u001b[38;5;167;01mKeyError\u001b[39;00m \u001b[38;5;28;01mas\u001b[39;00m err:\n",
      "File \u001b[1;32mc:\\Users\\l\\anaconda3\\Lib\\site-packages\\pandas\\_libs\\index.pyx:138\u001b[0m, in \u001b[0;36mpandas._libs.index.IndexEngine.get_loc\u001b[1;34m()\u001b[0m\n",
      "File \u001b[1;32mc:\\Users\\l\\anaconda3\\Lib\\site-packages\\pandas\\_libs\\index.pyx:165\u001b[0m, in \u001b[0;36mpandas._libs.index.IndexEngine.get_loc\u001b[1;34m()\u001b[0m\n",
      "File \u001b[1;32mpandas\\_libs\\hashtable_class_helper.pxi:5745\u001b[0m, in \u001b[0;36mpandas._libs.hashtable.PyObjectHashTable.get_item\u001b[1;34m()\u001b[0m\n",
      "File \u001b[1;32mpandas\\_libs\\hashtable_class_helper.pxi:5753\u001b[0m, in \u001b[0;36mpandas._libs.hashtable.PyObjectHashTable.get_item\u001b[1;34m()\u001b[0m\n",
      "\u001b[1;31mKeyError\u001b[0m: 'source'",
      "\nThe above exception was the direct cause of the following exception:\n",
      "\u001b[1;31mKeyError\u001b[0m                                  Traceback (most recent call last)",
      "Cell \u001b[1;32mIn[22], line 7\u001b[0m\n\u001b[0;32m      3\u001b[0m edge_df \u001b[38;5;241m=\u001b[39m pd\u001b[38;5;241m.\u001b[39mread_csv(csv_file_path,delimiter\u001b[38;5;241m=\u001b[39m\u001b[38;5;124m\"\u001b[39m\u001b[38;5;124m \u001b[39m\u001b[38;5;124m\"\u001b[39m)\n\u001b[0;32m      6\u001b[0m \u001b[38;5;66;03m# Create a graph from the CSV edge list\u001b[39;00m\n\u001b[1;32m----> 7\u001b[0m G \u001b[38;5;241m=\u001b[39m nx\u001b[38;5;241m.\u001b[39mfrom_pandas_edgelist(edge_df, \u001b[38;5;124m'\u001b[39m\u001b[38;5;124msource\u001b[39m\u001b[38;5;124m'\u001b[39m, \u001b[38;5;124m'\u001b[39m\u001b[38;5;124mtarget\u001b[39m\u001b[38;5;124m'\u001b[39m)\n\u001b[0;32m      8\u001b[0m nx\u001b[38;5;241m.\u001b[39mset_node_attributes(G, \u001b[38;5;124m\"\u001b[39m\u001b[38;5;124mS\u001b[39m\u001b[38;5;124m\"\u001b[39m, \u001b[38;5;124m\"\u001b[39m\u001b[38;5;124mstate\u001b[39m\u001b[38;5;124m\"\u001b[39m)  \u001b[38;5;66;03m# Set all nodes as Susceptible\u001b[39;00m\n\u001b[0;32m     10\u001b[0m \u001b[38;5;66;03m# Parameters for simulation\u001b[39;00m\n",
      "File \u001b[1;32mc:\\Users\\l\\anaconda3\\Lib\\site-packages\\networkx\\convert_matrix.py:415\u001b[0m, in \u001b[0;36mfrom_pandas_edgelist\u001b[1;34m(df, source, target, edge_attr, create_using, edge_key)\u001b[0m\n\u001b[0;32m    412\u001b[0m g \u001b[38;5;241m=\u001b[39m nx\u001b[38;5;241m.\u001b[39mempty_graph(\u001b[38;5;241m0\u001b[39m, create_using)\n\u001b[0;32m    414\u001b[0m \u001b[38;5;28;01mif\u001b[39;00m edge_attr \u001b[38;5;129;01mis\u001b[39;00m \u001b[38;5;28;01mNone\u001b[39;00m:\n\u001b[1;32m--> 415\u001b[0m     g\u001b[38;5;241m.\u001b[39madd_edges_from(\u001b[38;5;28mzip\u001b[39m(df[source], df[target]))\n\u001b[0;32m    416\u001b[0m     \u001b[38;5;28;01mreturn\u001b[39;00m g\n\u001b[0;32m    418\u001b[0m reserved_columns \u001b[38;5;241m=\u001b[39m [source, target]\n",
      "File \u001b[1;32mc:\\Users\\l\\anaconda3\\Lib\\site-packages\\pandas\\core\\frame.py:3807\u001b[0m, in \u001b[0;36mDataFrame.__getitem__\u001b[1;34m(self, key)\u001b[0m\n\u001b[0;32m   3805\u001b[0m \u001b[38;5;28;01mif\u001b[39;00m \u001b[38;5;28mself\u001b[39m\u001b[38;5;241m.\u001b[39mcolumns\u001b[38;5;241m.\u001b[39mnlevels \u001b[38;5;241m>\u001b[39m \u001b[38;5;241m1\u001b[39m:\n\u001b[0;32m   3806\u001b[0m     \u001b[38;5;28;01mreturn\u001b[39;00m \u001b[38;5;28mself\u001b[39m\u001b[38;5;241m.\u001b[39m_getitem_multilevel(key)\n\u001b[1;32m-> 3807\u001b[0m indexer \u001b[38;5;241m=\u001b[39m \u001b[38;5;28mself\u001b[39m\u001b[38;5;241m.\u001b[39mcolumns\u001b[38;5;241m.\u001b[39mget_loc(key)\n\u001b[0;32m   3808\u001b[0m \u001b[38;5;28;01mif\u001b[39;00m is_integer(indexer):\n\u001b[0;32m   3809\u001b[0m     indexer \u001b[38;5;241m=\u001b[39m [indexer]\n",
      "File \u001b[1;32mc:\\Users\\l\\anaconda3\\Lib\\site-packages\\pandas\\core\\indexes\\base.py:3804\u001b[0m, in \u001b[0;36mIndex.get_loc\u001b[1;34m(self, key, method, tolerance)\u001b[0m\n\u001b[0;32m   3802\u001b[0m     \u001b[38;5;28;01mreturn\u001b[39;00m \u001b[38;5;28mself\u001b[39m\u001b[38;5;241m.\u001b[39m_engine\u001b[38;5;241m.\u001b[39mget_loc(casted_key)\n\u001b[0;32m   3803\u001b[0m \u001b[38;5;28;01mexcept\u001b[39;00m \u001b[38;5;167;01mKeyError\u001b[39;00m \u001b[38;5;28;01mas\u001b[39;00m err:\n\u001b[1;32m-> 3804\u001b[0m     \u001b[38;5;28;01mraise\u001b[39;00m \u001b[38;5;167;01mKeyError\u001b[39;00m(key) \u001b[38;5;28;01mfrom\u001b[39;00m \u001b[38;5;21;01merr\u001b[39;00m\n\u001b[0;32m   3805\u001b[0m \u001b[38;5;28;01mexcept\u001b[39;00m \u001b[38;5;167;01mTypeError\u001b[39;00m:\n\u001b[0;32m   3806\u001b[0m     \u001b[38;5;66;03m# If we have a listlike key, _check_indexing_error will raise\u001b[39;00m\n\u001b[0;32m   3807\u001b[0m     \u001b[38;5;66;03m#  InvalidIndexError. Otherwise we fall through and re-raise\u001b[39;00m\n\u001b[0;32m   3808\u001b[0m     \u001b[38;5;66;03m#  the TypeError.\u001b[39;00m\n\u001b[0;32m   3809\u001b[0m     \u001b[38;5;28mself\u001b[39m\u001b[38;5;241m.\u001b[39m_check_indexing_error(key)\n",
      "\u001b[1;31mKeyError\u001b[0m: 'source'"
     ]
    }
   ],
   "source": [
    "# Load the network from a CSV file\n",
    "csv_file_path = \"data_random_graph.csv\"  # Replace with your CSV file path\n",
    "edge_df = pd.read_csv(csv_file_path,delimiter=\" \")\n",
    "\n",
    "\n",
    "# Create a graph from the CSV edge list\n",
    "G = nx.from_pandas_edgelist(edge_df, 'source', 'target')\n",
    "nx.set_node_attributes(G, \"S\", \"state\")  # Set all nodes as Susceptible\n",
    "\n",
    "# Parameters for simulation\n",
    "infection_prob = 0.3\n",
    "recovery_prob = 0.1\n",
    "threshold = 0.3  # 30% of nodes infected triggers misinformation recognition\n",
    "initial_infected = [random.choice(list(G.nodes))]  # Start with node 1 infected\n",
    "\n",
    "# Initialize infected nodes\n",
    "for node in initial_infected:\n",
    "    G.nodes[node][\"state\"] = \"I\"\n",
    "\n",
    "# Prepare tracking lists\n",
    "susceptible_counts, infected_counts, recovered_counts = [], [], []\n",
    "\n",
    "# Simulation\n",
    "for step in range(50):  # Run for 50 steps\n",
    "    new_infected, new_recovered = [], []\n",
    "    \n",
    "    # Count current states\n",
    "    infected_count = sum(1 for n in G.nodes if G.nodes[n][\"state\"] == \"I\")\n",
    "    total_nodes = G.number_of_nodes()\n",
    "    \n",
    "    # Check if threshold is reached\n",
    "    if infected_count / total_nodes >= threshold:\n",
    "        # Start recovery process from the first infected node\n",
    "        for node in initial_infected:\n",
    "            if G.nodes[node][\"state\"] == \"I\":\n",
    "                # Attempt to recover neighbors\n",
    "                for neighbor in G.neighbors(node):\n",
    "                    if G.nodes[neighbor][\"state\"] == \"S\":\n",
    "                        G.nodes[neighbor][\"state\"] = \"R\"\n",
    "                        new_recovered.append(neighbor)\n",
    "\n",
    "    # Regular infection and recovery process\n",
    "    for node in G.nodes:\n",
    "        if G.nodes[node][\"state\"] == \"I\":\n",
    "            # Attempt to infect neighbors\n",
    "            for neighbor in G.neighbors(node):\n",
    "                if G.nodes[neighbor][\"state\"] == \"S\" and random.random() < infection_prob:\n",
    "                    new_infected.append(neighbor)\n",
    "            # Attempt recovery\n",
    "            if random.random() < recovery_prob:\n",
    "                new_recovered.append(node)\n",
    "\n",
    "    # Update states\n",
    "    for node in new_infected:\n",
    "        G.nodes[node][\"state\"] = \"I\"\n",
    "    for node in new_recovered:\n",
    "        G.nodes[node][\"state\"] = \"R\"    \n",
    "        \n",
    "    # Track counts\n",
    "    susceptible_counts.append(sum(1 for n in G.nodes if G.nodes[n][\"state\"] == \"S\"))\n",
    "    infected_counts.append(sum(1 for n in G.nodes if G.nodes[n][\"state\"] == \"I\"))\n",
    "    recovered_counts.append(sum(1 for n in G.nodes if G.nodes[n][\"state\"] == \"R\"))\n",
    "\n",
    "# Plot results\n",
    "plt.plot(susceptible_counts, label=\"Susceptible\")\n",
    "plt.plot(infected_counts, label=\"Infected\")\n",
    "plt.plot(recovered_counts, label=\"Recovered\")\n",
    "plt.xlabel(\"Time Steps\")\n",
    "plt.ylabel(\"Node Count\")\n",
    "plt.legend()\n",
    "plt.show()\n"
   ]
  },
  {
   "cell_type": "code",
   "execution_count": 20,
   "metadata": {},
   "outputs": [],
   "source": [
    "# ... meglévő kód ...\n",
    "\n",
    "# Check if threshold is reached\n",
    "if infected_count / total_nodes >= threshold:\n",
    "    # Start recovery process from the first infected node\n",
    "    for node in initial_infected:\n",
    "        if G.nodes[node][\"state\"] == \"I\":\n",
    "            # Attempt to recover neighbors\n",
    "            for neighbor in G.neighbors(node):\n",
    "                if G.nodes[neighbor][\"state\"] == \"S\":\n",
    "                    G.nodes[neighbor][\"state\"] = \"R\"\n",
    "                    new_recovered.append(neighbor)\n",
    "\n",
    "# Regular infection and recovery process\n",
    "for node in G.nodes:\n",
    "    if G.nodes[node][\"state\"] == \"I\":\n",
    "        # Attempt to infect neighbors\n",
    "        for neighbor in G.neighbors(node):\n",
    "            if G.nodes[neighbor][\"state\"] == \"S\" and random.random() < infection_prob:\n",
    "                new_infected.append(neighbor)\n",
    "        # Attempt recovery\n",
    "        if random.random() < recovery_prob:\n",
    "            new_recovered.append(node)\n",
    "\n",
    "# Update states\n",
    "for node in new_infected:\n",
    "    G.nodes[node][\"state\"] = \"I\"\n",
    "for node in new_recovered:\n",
    "    G.nodes[node][\"state\"] = \"R\"\n",
    "\n",
    "# ... meglévő kód ..."
   ]
  },
  {
   "cell_type": "code",
   "execution_count": 11,
   "metadata": {},
   "outputs": [],
   "source": [
    "# ... meglévő kód ...\n",
    "\n",
    "# Check if threshold is reached\n",
    "if infected_count / total_nodes >= threshold:\n",
    "    # Convert infected nodes to recovered\n",
    "    for node in G.nodes:\n",
    "        if G.nodes[node][\"state\"] == \"I\":\n",
    "            G.nodes[node][\"state\"] = \"R\"\n",
    "        if G.nodes[node][\"state\"] == \"R\":\n",
    "                # Attempt to recover neighbors\n",
    "                for neighbor in G.neighbors(node):\n",
    "                    if G.nodes[neighbor][\"state\"] == \"S\":\n",
    "                        G.nodes[node][\"state\"] = \"R\"\n",
    "                        new_recovered.append(neighbor)\n",
    "# Regular infection and recovery process\n",
    "for node in G.nodes:\n",
    "    if G.nodes[node][\"state\"] == \"I\":\n",
    "        # Attempt to infect neighbors\n",
    "        for neighbor in G.neighbors(node):\n",
    "            if G.nodes[neighbor][\"state\"] == \"S\" and random.random() < infection_prob:\n",
    "                new_infected.append(neighbor)\n",
    "        # Attempt recovery\n",
    "        #if random.random() < recovery_prob:\n",
    "         #   new_recovered.append(node)\n",
    "    \n",
    "# Update states\n",
    "for node in new_infected:\n",
    "    G.nodes[node][\"state\"] = \"I\"\n",
    "for node in new_recovered:\n",
    "    G.nodes[node][\"state\"] = \"R\"\n",
    "\n",
    "# ... meglévő kód ..."
   ]
  },
  {
   "cell_type": "code",
   "execution_count": null,
   "metadata": {
    "collapsed": false
   },
   "outputs": [],
   "source": []
  }
 ],
 "metadata": {
  "kernelspec": {
   "display_name": "base",
   "language": "python",
   "name": "python3"
  },
  "language_info": {
   "codemirror_mode": {
    "name": "ipython",
    "version": 3
   },
   "file_extension": ".py",
   "mimetype": "text/x-python",
   "name": "python",
   "nbconvert_exporter": "python",
   "pygments_lexer": "ipython3",
   "version": "3.11.4"
  }
 },
 "nbformat": 4,
 "nbformat_minor": 2
}
